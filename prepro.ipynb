{
 "cells": [
  {
   "cell_type": "code",
   "execution_count": 2,
   "metadata": {},
   "outputs": [],
   "source": [
    "import pandas as pd\n",
    "import numpy as np\n",
    "import plotly.express as px\n",
    "import plotly.graph_objects as go\n",
    "import plotly.graph_objs as go\n",
    "import plotly.offline as offline\n",
    "from folium.plugins import HeatMapWithTime\n",
    "from plotly.subplots import make_subplots\n",
    "import folium\n",
    "from folium import plugins\n",
    "from folium.plugins import HeatMap\n",
    "from folium import FeatureGroup\n",
    "import json\n",
    "import math\n",
    "import re\n",
    "from datetime import datetime\n",
    "import os\n",
    "import glob\n",
    "import subprocess\n",
    "from bs4 import BeautifulSoup as bs\n",
    "from shapely.geometry import Point, Polygon, LineString\n",
    "import geopandas as gpd\n",
    "from geopandas import GeoSeries\n",
    "import pyproj\n",
    "from tqdm import tqdm\n",
    "#from keplergl import KeplerGl\n",
    "\n",
    "# 모든 열이 생략되지 않도록 설정\n",
    "pd.set_option('display.max_columns', None)\n",
    "# 데이터 출처 - https://www.nie-ecobank.kr/rdm/rsrchdoi/selectRsrchDtaListVw.do (에코뱅크(국제생태정보종합은행))"
   ]
  },
  {
   "cell_type": "code",
   "execution_count": 3,
   "metadata": {},
   "outputs": [],
   "source": [
    "data_2014 = pd.read_csv(\"전국자연환경조사_조류_2014.csv\")\n",
    "data_2015 = pd.read_csv(\"전국자연환경조사_조류_2015.csv\")\n",
    "data_2016 = pd.read_csv(\"전국자연환경조사_조류_2016.csv\")\n",
    "data_2017 = pd.read_csv(\"전국자연환경조사_조류_2017.csv\")\n",
    "data_2018 = pd.read_csv(\"전국자연환경조사_조류_2018.csv\")\n",
    "data_2019 = pd.read_csv(\"전국자연환경조사_조류_2019.csv\")"
   ]
  },
  {
   "cell_type": "code",
   "execution_count": 4,
   "metadata": {},
   "outputs": [],
   "source": [
    "# 지도의 중심 좌표 설정\n",
    "m = folium.Map(location=[36.627797, 127.511943], tiles='cartodbpositron', zoom_start=12)\n",
    "\n",
    "# 기본 배경지도를 항상 표시하도록 설정 및 기본 통합 도로망 추가\n",
    "folium.TileLayer('cartodbpositron', overlay=False).add_to(m)\n",
    "\n",
    "# 레이어 추가. 체크해제(비활성화)된 상태로 표시되도록 함\n",
    "m_2014 = folium.FeatureGroup(name=\"2014년\", tiles='cartodbpositron', overlay=False)\n",
    "m_2015 = folium.FeatureGroup(name=\"2015년\", tiles='cartodbpositron', overlay=False)\n",
    "m_2016 = folium.FeatureGroup(name=\"2016년\", tiles='cartodbpositron', overlay=False)\n",
    "m_2017 = folium.FeatureGroup(name=\"2017년\", tiles='cartodbpositron', overlay=False)\n",
    "m_2018 = folium.FeatureGroup(name=\"2018년\", tiles='cartodbpositron', overlay=False)\n",
    "m_2019 = folium.FeatureGroup(name=\"2019년\", tiles='cartodbpositron', overlay=False)\n",
    "\n",
    "year_lst = [str(year) for year in range(2014, 2020)]\n",
    "data_lst = [data_2014, data_2015, data_2016, data_2017, data_2018, data_2019]\n",
    "layers_lst = [m_2014, m_2015, m_2016, m_2017, m_2018, m_2019]\n",
    "data_dic = {}\n",
    "layers_dic = {}\n",
    "for year, data, layer in zip(year_lst, data_lst, layers_lst):\n",
    "    data_dic[year] = data\n",
    "    layers_dic[year] = layer\n",
    "\n",
    "# 연도별 데이터프레임을 만들고 레이어 추가\n",
    "for year in year_lst:  # 2018부터 2022까지의 연도\n",
    "    # GeoDataFrame을 순회하면서 Polygon을 지도에 추가\n",
    "    for idx, row in data_dic[year].iterrows():\n",
    "        marker = folium.CircleMarker(\n",
    "            location=[row['위도'], row['경도']],\n",
    "            radius=1,\n",
    "            fill=True,\n",
    "            color=\"Red\",\n",
    "            fillColor=\"Red\"\n",
    "        ).add_to(layers_dic[year])#.add_child(folium.Popup(popup_text, max_width=100))\n",
    "\n",
    "for layer_instance in layers_dic.values():\n",
    "    layer_instance.add_to(m)\n",
    "\n",
    "# LayerControl을 사용하여 주중 & 주말 선택할 수 있게 구성\n",
    "folium.LayerControl(collapsed=False).add_to(m)\n",
    "\n",
    "# 범례 추가\n",
    "m.get_root().html\n",
    "m.save(\"연도별_조류분포_시각화.html\")"
   ]
  },
  {
   "cell_type": "code",
   "execution_count": 19,
   "metadata": {},
   "outputs": [],
   "source": [
    "m.save(\"연도별_조류분포_시각화.html\")"
   ]
  },
  {
   "cell_type": "code",
   "execution_count": null,
   "metadata": {},
   "outputs": [],
   "source": [
    "# https://sgis.kostat.go.kr/view/pss/requstDataListDtl 통계지리정보 서비스에 자료신청함(2024-01-12)\n",
    "# https://egis.me.go.kr/ 여기 데이터 찾아보기"
   ]
  }
 ],
 "metadata": {
  "kernelspec": {
   "display_name": "Python 3.10.7 64-bit",
   "language": "python",
   "name": "python3"
  },
  "language_info": {
   "codemirror_mode": {
    "name": "ipython",
    "version": 3
   },
   "file_extension": ".py",
   "mimetype": "text/x-python",
   "name": "python",
   "nbconvert_exporter": "python",
   "pygments_lexer": "ipython3",
   "version": "3.10.7"
  },
  "orig_nbformat": 4,
  "vscode": {
   "interpreter": {
    "hash": "fb4569285eef3a3450cb62085a5b1e0da4bce0af555edc33dcf29baf3acc1368"
   }
  }
 },
 "nbformat": 4,
 "nbformat_minor": 2
}
