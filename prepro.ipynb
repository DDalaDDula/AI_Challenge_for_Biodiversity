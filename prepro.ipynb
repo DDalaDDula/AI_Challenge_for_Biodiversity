{
 "cells": [
  {
   "cell_type": "code",
   "execution_count": 1,
   "metadata": {},
   "outputs": [],
   "source": [
    "import pandas as pd\n",
    "import numpy as np\n",
    "import plotly.express as px\n",
    "import plotly.graph_objects as go\n",
    "import plotly.graph_objs as go\n",
    "import plotly.offline as offline\n",
    "from folium.plugins import HeatMapWithTime\n",
    "from plotly.subplots import make_subplots\n",
    "import folium\n",
    "from folium import plugins\n",
    "from folium.plugins import HeatMap\n",
    "from folium import FeatureGroup\n",
    "import json\n",
    "import math\n",
    "import re\n",
    "from datetime import datetime\n",
    "import os\n",
    "import glob\n",
    "import subprocess\n",
    "from bs4 import BeautifulSoup as bs\n",
    "from shapely.geometry import Point, Polygon, LineString\n",
    "import geopandas as gpd\n",
    "from geopandas import GeoSeries\n",
    "import pyproj\n",
    "from tqdm import tqdm\n",
    "#from keplergl import KeplerGl\n",
    "\n",
    "# 모든 열이 생략되지 않도록 설정\n",
    "pd.set_option('display.max_columns', None)\n",
    "# 데이터 출처 - https://www.nie-ecobank.kr/rdm/rsrchdoi/selectRsrchDtaListVw.do (에코뱅크(국제생태정보종합은행))"
   ]
  },
  {
   "cell_type": "code",
   "execution_count": null,
   "metadata": {},
   "outputs": [],
   "source": []
  }
 ],
 "metadata": {
  "kernelspec": {
   "display_name": "NIFOS",
   "language": "python",
   "name": "python3"
  },
  "language_info": {
   "codemirror_mode": {
    "name": "ipython",
    "version": 3
   },
   "file_extension": ".py",
   "mimetype": "text/x-python",
   "name": "python",
   "nbconvert_exporter": "python",
   "pygments_lexer": "ipython3",
   "version": "3.11.3"
  },
  "orig_nbformat": 4
 },
 "nbformat": 4,
 "nbformat_minor": 2
}
